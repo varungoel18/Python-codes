n = 5
for i in range(n+1,0):
    print("* " * i , end=" ")
    print(end="\n")